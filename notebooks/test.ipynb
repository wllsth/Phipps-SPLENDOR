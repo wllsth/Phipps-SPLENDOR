{
 "cells": [
  {
   "cell_type": "code",
   "execution_count": null,
   "id": "aa7070c1-863f-4a72-8de0-2e9abfbb6596",
   "metadata": {},
   "outputs": [],
   "source": []
  }
 ],
 "metadata": {
  "kernelspec": {
   "display_name": "",
   "name": ""
  },
  "language_info": {
   "name": ""
  }
 },
 "nbformat": 4,
 "nbformat_minor": 5
}
