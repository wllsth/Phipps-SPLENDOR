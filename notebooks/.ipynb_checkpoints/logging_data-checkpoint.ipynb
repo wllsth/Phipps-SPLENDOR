{
 "cells": [
  {
   "cell_type": "markdown",
   "id": "1120707c-ae4f-45dd-8f3d-72cc6120c00a",
   "metadata": {},
   "source": [
    "# Logging Data With the Moku\n",
    "-----\n",
    "In this example notebook, we will show how to log data with the Moku, building up to writing a short sequencer script. In order to log data, we will use the `LogData` class from `splendaq`, which pulls from the Moku Python API."
   ]
  },
  {
   "cell_type": "code",
   "execution_count": null,
   "id": "f550a9c1-f1ec-4251-a4f6-bce585ef1468",
   "metadata": {},
   "outputs": [],
   "source": [
    "from splendaq.daq import LogData\n",
    "from splendaq.io import convert_li_to_h5\n",
    "\n",
    "import numpy as np\n",
    "\n",
    "moku_ip = 'your_ip_address'"
   ]
  },
  {
   "cell_type": "markdown",
   "id": "ea25fa1f-a381-4539-8203-495bc415c9d8",
   "metadata": {},
   "source": [
    "## Simple Data Logging\n",
    "\n",
    "### The `LogData` Context Manager\n",
    "\n",
    "The `LogData` class should be interacted with as a context manager, as it properly closes the connection to the Moku once complete. When entering the context manager, the user can set various global settings for the Moku, e.g. the digitization rate and the maximum number of seconds to save to a single file. Below, we show the docstring of the class for the user's benefit. Note: the `force_connect` argument should be set to `True` as a last resort, otherwise you might be kicking another user off of the Moku!"
   ]
  },
  {
   "cell_type": "code",
   "execution_count": null,
   "id": "f0334b28-e11c-4189-b4c1-cefa2c251eb1",
   "metadata": {},
   "outputs": [],
   "source": [
    "?LogData"
   ]
  },
  {
   "cell_type": "markdown",
   "id": "f52960fe-4436-4b3d-99f0-fc6bbb5d80bc",
   "metadata": {},
   "source": [
    "### Setting DC Values and Logging Data\n",
    "\n",
    "For a simple example, we show below how to log data from Input 1, where we are supplying a some DC voltage from Output 1. We'll log 30 seconds of data, where we are saving the data being read out by Input 1."
   ]
  },
  {
   "cell_type": "code",
   "execution_count": null,
   "id": "ac5f2dc9-3aae-41ed-aab5-1be72e54ce3b",
   "metadata": {},
   "outputs": [],
   "source": [
    "with LogData(moku_ip) as LOG:\n",
    "    LOG.set_input_channels(1)\n",
    "    dc_settings = LOG.dc_settings(\n",
    "        dc_level=0.1,\n",
    "    )\n",
    "    LOG.set_output_channel(1, 'DC', **dc_settings)\n",
    "    LOG.log_data(30)"
   ]
  },
  {
   "cell_type": "markdown",
   "id": "23fe12de-f334-42b1-ac3a-96d725e9ffe9",
   "metadata": {},
   "source": [
    "This will have saved a file with the `.li` extension, a Liquid Instruments binary file. In order to convert it to a `splendaq` HDF5 file, we can use `splendaq.io.convert_li_to_h5`. The subsequent file can then be loaded with `splendaq.io.Reader`."
   ]
  },
  {
   "cell_type": "code",
   "execution_count": null,
   "id": "c4053b26-01a5-4170-97fc-47c3ebbd118a",
   "metadata": {},
   "outputs": [],
   "source": [
    "convert_li_to_h5('created_file.li', my_os='mac')"
   ]
  },
  {
   "cell_type": "markdown",
   "id": "585b3c5c-4cf9-4c5d-ba88-80849ac753e4",
   "metadata": {},
   "source": [
    "### Setting Waveforms\n",
    "\n",
    "There are various waveforms that can be outputted by the Moku (beyond a simple DC value), they are:\n",
    " - Sine wave\n",
    " - Square wave\n",
    " - Ramp\n",
    " - Pulse\n",
    "\n",
    "As with the DC values, these various waveforms settings can be accessed and then set via the `set_output_channel` method. As an example, we show setting up data taking with a roughly square pulse. This time, let's log input channels 1 and 2, which can be done by instead passing a list to `set_input_channels`."
   ]
  },
  {
   "cell_type": "code",
   "execution_count": null,
   "id": "aad029ec-3587-45cd-baeb-d40ac531949d",
   "metadata": {},
   "outputs": [],
   "source": [
    "with LogData(moku_ip) as LOG:\n",
    "    LOG.set_input_channels([1, 2])\n",
    "    pulse_settings = LOG.pulse_settings(\n",
    "        amplitude=0.1,\n",
    "        frequency=10,\n",
    "        offset=0,\n",
    "        edge_time=50e-6,\n",
    "        pulse_width=1e-3,\n",
    "    )\n",
    "    LOG.set_output_channel(1, 'Pulse', **pulse_settings)\n",
    "\n",
    "    LOG.log_data(30)"
   ]
  },
  {
   "cell_type": "markdown",
   "id": "1945a302-1d00-4c95-a241-b2384f839cf6",
   "metadata": {},
   "source": [
    "The various waveform settings can be accessed via:\n",
    " - `splendaq.daq.LogData.dc_settings`\n",
    " - `splendaq.daq.LogData.pulse_settings`\n",
    " - `splendaq.daq.LogData.ramp_settings`\n",
    " - `splendaq.daq.LogData.sine_settings`\n",
    " - `splendaq.daq.LogData.square_settings`\n",
    " \n",
    " Check their docstrings to see the different tunable parameters and allowed values!"
   ]
  },
  {
   "cell_type": "markdown",
   "id": "47633dca-d0d1-485b-9d9a-90acd06d7bf3",
   "metadata": {},
   "source": [
    "## Writing a Short Sequencer\n",
    "\n",
    "Now that we have the ability to log single datasets, let's see how we could write a short sequencer that would automatically save data at different specified settings. A common measurement is the IV curve: how does some device respond to DC changes in voltage?"
   ]
  },
  {
   "cell_type": "code",
   "execution_count": null,
   "id": "2c674fde-8995-4d09-abcc-5f7cb3b40104",
   "metadata": {},
   "outputs": [],
   "source": [
    "dc_values = np.linspace(0, 1, num=10)\n",
    "\n",
    "for dcval in dc_values:\n",
    "    with LogData(moku_ip) as LOG:\n",
    "        LOG.set_input_channels(1)\n",
    "        dc_settings = LOG.dc_settings(\n",
    "            dc_level=dcval,\n",
    "        )\n",
    "        LOG.set_output_channel(1, 'DC', **dc_settings)\n",
    "        LOG.log_data(30, file_name_prefix=f\"splendaq_iv_{dcval}\")"
   ]
  },
  {
   "cell_type": "markdown",
   "id": "d10bfc17-cc8b-4399-a442-03b21da0375d",
   "metadata": {},
   "source": [
    "What if we have a system that has two voltages that we can change? This would, for example, apply in the case of characterizing a HEMT (high electron mobility transistor), where we change both drain-to-source and gate-to-source voltages in the common source configuration. We could write a sequencer in a very similar way as the previous one, such as below"
   ]
  },
  {
   "cell_type": "code",
   "execution_count": null,
   "id": "e68436d6-f764-4790-9ef8-dc4a2ad9d5c1",
   "metadata": {},
   "outputs": [],
   "source": [
    "vgs_values = np.linspace(0, 1, num=10)\n",
    "vds_values = np.linspace(0, 1, num=10)\n",
    "\n",
    "for vgs in vgs_values:\n",
    "    for vgs in vgs_values:\n",
    "        with LogData(moku_ip) as LOG:\n",
    "            LOG.set_input_channels(1)\n",
    "\n",
    "            vgs_settings = LOG.dc_settings(\n",
    "                dc_level=vgs,\n",
    "            )\n",
    "            LOG.set_output_channel(1, 'DC', **vgs_settings)\n",
    "\n",
    "            vds_settings = LOG.dc_settings(\n",
    "                dc_level=vds,\n",
    "            )\n",
    "            LOG.set_output_channel(2, 'DC', **vds_settings)\n",
    "\n",
    "            LOG.log_data(30, file_name_prefix=f\"splendaq_iv_{vgs}_{vds}\")"
   ]
  },
  {
   "cell_type": "markdown",
   "id": "4a28cfb8-948a-4900-b999-5f6b213e935b",
   "metadata": {},
   "source": []
  }
 ],
 "metadata": {
  "kernelspec": {
   "display_name": "Python 3 (ipykernel)",
   "language": "python",
   "name": "python3"
  },
  "language_info": {
   "codemirror_mode": {
    "name": "ipython",
    "version": 3
   },
   "file_extension": ".py",
   "mimetype": "text/x-python",
   "name": "python",
   "nbconvert_exporter": "python",
   "pygments_lexer": "ipython3",
   "version": "3.10.4"
  }
 },
 "nbformat": 4,
 "nbformat_minor": 5
}
